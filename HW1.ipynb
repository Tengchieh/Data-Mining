{
 "cells": [
  {
   "cell_type": "markdown",
   "metadata": {},
   "source": [
    "\n",
    "# <p style=\"text-align: center;\">EE 380L: Data Mining</p>\n",
    "# <p style=\"text-align: center;\">Assignment 1</p>\n",
    "## <p style=\"text-align: center;\">Total points: 30</p>\n",
    "## <p style=\"text-align: center;\">Due: Tuesday, Jan 31, 2017, submitted via Canvas by 11:59 pm</p>\n",
    "\n"
   ]
  },
  {
   "cell_type": "markdown",
   "metadata": {},
   "source": [
    "# Question 1: Applications of Data Mining (5 pts)\n",
    "\n",
    "Find a technical article/publication of your interest (published in 2015 or later) that uses data mining for some engineering application and provide the citation.\n",
    "\n",
    "1. (2 pts) What problem was addressed  and how did the data mining approach help solve the problem?\n",
    "2. (3 pts) Which data mining (regression/classification/etc) model(s) was used in the article?  What were the criteria used in selecting the model?\n",
    "\n",
    "\n",
    "## Answer\n",
    "\n"
   ]
  },
  {
   "cell_type": "markdown",
   "metadata": {},
   "source": [
    "# Question 2: Maximum Likelihood Estimation (5 pts)\n",
    "\n",
    "Consider the following discrete univariate probability distribution involving a single parameter $\\lambda$.\n",
    "\n",
    "$$P(k; \\lambda) = \\frac{\\lambda^k e^{-\\lambda}}{k!}, ~~~ k = 0, 1, 2, \\ldots , $$, and zero elsewhere.\n",
    "\n",
    "Given N data points $x_1, x_2, \\ldots x_N$ drawn i.i.d. from this distribution, derive the MLE estimate for $\\lambda$, in terms of $x_1, x_2, \\ldots x_N$.\n",
    "\n",
    "## Answer\n",
    "\n"
   ]
  },
  {
   "cell_type": "markdown",
   "metadata": {},
   "source": [
    "# Question 3: Illustrating the \"Curse of Dimensionality\" (6 pts)\n",
    "\n",
    "Consider a hypersphere of radius $a$ in $d$ dimensions, circumscribed in a hypercube with sides of length $2a$.\n",
    "The ratio of the volume of a hypersphere to the the volumn of a hypercube is given by,\n",
    "\n",
    "$$f = \\frac{\\text{volume of sphere}}{\\text{volume of cube}} = \\frac{\\pi^{d/2}}{d2^{d-1}\\Gamma(d/2)}$$\n",
    "\n",
    "When $x$ is large, the gamma function $\\Gamma$ can be approximated by the Stirling's approximation as follows.\n",
    "\n",
    "$$\\Gamma(x+1) \\simeq (2\\pi )^{1/2}e^{-x}x^{x+1/2} $$\n",
    "\n",
    "a. (3 pts) Calculate the ratio $f$ for the cases $d$ = 10 and 100.  Note that for integers, $i, \\Gamma(i) = (i-1)!$, so you don't need to use Stirling's approximation. \n",
    "\n",
    "b. (3 pts) What do your results say about where the volume is concentrated at in  high dimensional hypercubes? \n",
    "\n",
    "## Answer\n",
    "\n"
   ]
  },
  {
   "cell_type": "markdown",
   "metadata": {},
   "source": [
    "# Question 4: Multiple Linear Regression in Python (14 pts)\n",
    "\n",
    "Use the following code to import the diabetes dataset and generalized linear models in python."
   ]
  },
  {
   "cell_type": "code",
   "execution_count": 1,
   "metadata": {
    "collapsed": true
   },
   "outputs": [],
   "source": [
    "from sklearn import datasets, linear_model\n",
    "diabetes = datasets.load_diabetes()"
   ]
  },
  {
   "cell_type": "markdown",
   "metadata": {},
   "source": [
    "The dataset consists of ten features and one target variable.  More information is found at http://scikit-learn.org/stable/datasets/index.html#diabetes-dataset\n",
    "\n",
    "a. (2 pts) Print the shape (number of rows and columns) of the feature matrix, and print the first 5 rows. (Use shape and head commands in python). \n",
    "\n",
    "b. (2 pts) Visualize the relationship between the first four features (age, sex, body mass index, average blood pressure) and the response variable using scatterplots.  Comment on the fits.\n",
    "\n",
    "c.  (3 pts) Using ordinary least squares, fit a multiple linear regression (MLR) on all the feature variables using the entire dataset (442 rows). Report the regression coefficient of each input feature and evaluate the model using mean squared error (MSE).  Example of ordinary least squares in Python is shown in Section 1.1.1 of http://scikit-learn.org/stable/modules/linear_model.html.\n",
    "\n",
    "d.  (4 pts) Split the data into a training set and a test set.  Use the first 300 rows for training set and remaining rows for test set.  Fit an MLR using the training set.  Evaluate the trained model using the training set and the test set, respectively.  Compare the two MSE values thus obtained.\n",
    "\n",
    "e.  (3 pts) Do you think your MLR model is reasonable for this problem? You may look at the distribution of residuals to provide an informed answer.\n",
    "\n",
    "## Answer\n",
    "\n"
   ]
  }
 ],
 "metadata": {
  "anaconda-cloud": {},
  "kernelspec": {
   "display_name": "Python [default]",
   "language": "python",
   "name": "python2"
  },
  "language_info": {
   "codemirror_mode": {
    "name": "ipython",
    "version": 2
   },
   "file_extension": ".py",
   "mimetype": "text/x-python",
   "name": "python",
   "nbconvert_exporter": "python",
   "pygments_lexer": "ipython2",
   "version": "2.7.12"
  }
 },
 "nbformat": 4,
 "nbformat_minor": 0
}
